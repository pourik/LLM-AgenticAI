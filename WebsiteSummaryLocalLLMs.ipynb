{
 "cells": [
  {
   "cell_type": "code",
   "execution_count": null,
   "id": "1f4c98b1",
   "metadata": {},
   "outputs": [],
   "source": [
    "import requests\n",
    "from bs4 import BeautifulSoup\n",
    "from IPython.display import display, Markdown"
   ]
  },
  {
   "cell_type": "code",
   "execution_count": 2,
   "id": "80c4869e",
   "metadata": {},
   "outputs": [],
   "source": [
    "headers = {\n",
    " \"User-Agent\": \"Mozilla/5.0 (Windows NT 10.0; Win64; x64) AppleWebKit/537.36 (KHTML, like Gecko) Chrome/117.0.0.0 Safari/537.36\"\n",
    "}\n",
    "\n",
    "class webScrape:\n",
    "    def __init__(self, url):\n",
    "        self.url = url\n",
    "        soup = BeautifulSoup(requests.get(url, headers=headers).content, 'html.parser')\n",
    "        self.title = soup.title.string if soup.title else 'No Title Found'\n",
    "        for irrelevant in soup(['script', 'style', 'image', 'input']):\n",
    "            irrelevant.decompose()\n",
    "        self.text = soup.get_text(separator='\\n', strip=True)"
   ]
  },
  {
   "cell_type": "code",
   "execution_count": 6,
   "id": "0b0ca051",
   "metadata": {},
   "outputs": [],
   "source": [
    "import ollama\n",
    "\n",
    "model = \"llama3.2\"\n",
    "message = [{\n",
    "    \"role\": \"user\",\n",
    "    \"content\": \"Summarize the following website content for \"\n",
    "}]"
   ]
  },
  {
   "cell_type": "code",
   "execution_count": 9,
   "id": "b2985bf8",
   "metadata": {},
   "outputs": [],
   "source": [
    "def summarize(url):\n",
    "    webContent = webScrape(url)\n",
    "    message[0][\"content\"] += f\"{webContent.title}: {webContent.text}\"\n",
    "    response = ollama.chat(model, messages=message)\n",
    "    display(Markdown(f\"### Summary of {webContent.title}\\n\\n{response['message']['content']}\"))"
   ]
  },
  {
   "cell_type": "code",
   "execution_count": 10,
   "id": "a82c0fc6",
   "metadata": {},
   "outputs": [
    {
     "data": {
      "text/markdown": [
       "### Summary of Home - Edward Donner\n",
       "\n",
       "The website appears to be the personal homepage of Edward Donner, a co-founder and CTO of Nebula.io. Here's a summary of the content:\n",
       "\n",
       "* The website introduces Edward as a writer, coder, and enthusiast of Large Language Models (LLMs).\n",
       "* It mentions his involvement with Nebula.io, where he is working on applying AI to help people discover their potential.\n",
       "* Edward shares updates about his personal projects, including courses on LLMs and agentic AI engineering.\n",
       "* The website also features an \"Outsmart\" section, which appears to be a competitive arena where LLMs are pitted against each other in a battle of diplomacy and deviousness.\n",
       "* Visitors can find links to connect with Edward through various social media platforms, as well as subscribe to his newsletter.\n",
       "\n",
       "Overall, the website seems to be a personal showcase for Edward's interests and work in the field of AI and LLMs."
      ],
      "text/plain": [
       "<IPython.core.display.Markdown object>"
      ]
     },
     "metadata": {},
     "output_type": "display_data"
    }
   ],
   "source": [
    "summarize(\"https://edwarddonner.com\")"
   ]
  },
  {
   "cell_type": "code",
   "execution_count": null,
   "id": "49394e0b",
   "metadata": {},
   "outputs": [],
   "source": []
  }
 ],
 "metadata": {
  "kernelspec": {
   "display_name": "Python 3 (ipykernel)",
   "language": "python",
   "name": "python3"
  },
  "language_info": {
   "codemirror_mode": {
    "name": "ipython",
    "version": 3
   },
   "file_extension": ".py",
   "mimetype": "text/x-python",
   "name": "python",
   "nbconvert_exporter": "python",
   "pygments_lexer": "ipython3",
   "version": "3.11.13"
  }
 },
 "nbformat": 4,
 "nbformat_minor": 5
}
