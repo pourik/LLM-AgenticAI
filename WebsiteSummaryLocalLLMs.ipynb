{
 "cells": [
  {
   "cell_type": "code",
   "execution_count": 16,
   "id": "1f4c98b1",
   "metadata": {},
   "outputs": [],
   "source": [
    "import requests\n",
    "from bs4 import BeautifulSoup\n",
    "from IPython.display import display, Markdown"
   ]
  },
  {
   "cell_type": "code",
   "execution_count": 17,
   "id": "80c4869e",
   "metadata": {},
   "outputs": [],
   "source": [
    "headers = {\n",
    " \"User-Agent\": \"Mozilla/5.0 (Windows NT 10.0; Win64; x64) AppleWebKit/537.36 (KHTML, like Gecko) Chrome/117.0.0.0 Safari/537.36\"\n",
    "}\n",
    "\n",
    "class webScrape:\n",
    "    def __init__(self, url):\n",
    "        self.url = url\n",
    "        soup = BeautifulSoup(requests.get(url, headers=headers).content, 'html.parser')\n",
    "        self.title = soup.title.string if soup.title else 'No Title Found'\n",
    "        for irrelevant in soup(['script', 'style', 'image', 'input']):\n",
    "            irrelevant.decompose()\n",
    "        self.text = soup.get_text(separator='\\n', strip=True)"
   ]
  },
  {
   "cell_type": "code",
   "execution_count": 18,
   "id": "0b0ca051",
   "metadata": {},
   "outputs": [],
   "source": [
    "import ollama\n",
    "\n",
    "model = \"llama3.2\"\n",
    "message = [{\n",
    "    \"role\": \"user\",\n",
    "    \"content\": \"Summarize the following website content for \"\n",
    "}]"
   ]
  },
  {
   "cell_type": "code",
   "execution_count": 19,
   "id": "b2985bf8",
   "metadata": {},
   "outputs": [],
   "source": [
    "def summarize(url):\n",
    "    webContent = webScrape(url)\n",
    "    message[0][\"content\"] += f\"{webContent.title}: {webContent.text}\"\n",
    "    response = ollama.chat(model, messages=message)\n",
    "    display(Markdown(f\"### Summary of {webContent.title}\\n\\n{response['message']['content']}\"))"
   ]
  },
  {
   "cell_type": "code",
   "execution_count": 20,
   "id": "a82c0fc6",
   "metadata": {},
   "outputs": [
    {
     "data": {
      "text/markdown": [
       "### Summary of Home - Edward Donner\n",
       "\n",
       "The website content appears to be a personal homepage of Edward Donner, a tech entrepreneur and AI expert. Here's a summary:\n",
       "\n",
       "Edward Donner is the co-founder and CTO of Nebula.io, an AI startup that applies machine learning (LLMs) to help people discover their potential and pursue their passions. He has previously founded and led another AI startup, untapt, which was acquired in 2021.\n",
       "\n",
       "The website features a personal blog where Edward shares his thoughts on AI, technology, and entrepreneurship. It also includes sections for:\n",
       "\n",
       "* \"About\" - Edward's background and experience\n",
       "* \"Posts\" - links to recent articles and updates\n",
       "* \"Get in touch\" - contact information for reaching out to Edward\n",
       "* \"Navigation\" - menu options for exploring the website further\n",
       "\n",
       "Edward is active on social media platforms such as LinkedIn, Twitter, and Facebook, where he shares his latest work and ideas."
      ],
      "text/plain": [
       "<IPython.core.display.Markdown object>"
      ]
     },
     "metadata": {},
     "output_type": "display_data"
    }
   ],
   "source": [
    "summarize(\"https://edwarddonner.com\")"
   ]
  },
  {
   "cell_type": "code",
   "execution_count": null,
   "id": "378e141d",
   "metadata": {},
   "outputs": [],
   "source": []
  }
 ],
 "metadata": {
  "kernelspec": {
   "display_name": "llm_git",
   "language": "python",
   "name": "python3"
  },
  "language_info": {
   "codemirror_mode": {
    "name": "ipython",
    "version": 3
   },
   "file_extension": ".py",
   "mimetype": "text/x-python",
   "name": "python",
   "nbconvert_exporter": "python",
   "pygments_lexer": "ipython3",
   "version": "3.11.13"
  }
 },
 "nbformat": 4,
 "nbformat_minor": 5
}
