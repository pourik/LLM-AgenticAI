{
  "cells": [
    {
      "cell_type": "code",
      "execution_count": 2,
      "metadata": {
        "id": "sUtBCN2Rzvev"
      },
      "outputs": [],
      "source": [
        "import os\n",
        "from bs4 import BeautifulSoup\n",
        "from dotenv import load_dotenv\n",
        "import requests\n",
        "from openai import OpenAI"
      ]
    },
    {
      "cell_type": "code",
      "execution_count": 4,
      "metadata": {
        "colab": {
          "base_uri": "https://localhost:8080/"
        },
        "id": "I_qnVNI00iaX",
        "outputId": "50a525bb-005f-4b4c-e505-fde83d746565"
      },
      "outputs": [
        {
          "name": "stdout",
          "output_type": "stream",
          "text": [
            "Api Key Found\n"
          ]
        }
      ],
      "source": [
        "load_dotenv(override=True)\n",
        "api_key = os.getenv(\"OPENAI_API_KEY\")\n",
        "\n",
        "if not api_key:\n",
        "    print(\"Couldn't find Api Key\")\n",
        "elif not api_key.startswith(\"sk-proj-\"):\n",
        "  print(\"Invalid Api Key\")\n",
        "else:\n",
        "  print(\"Api Key Found\")"
      ]
    },
    {
      "cell_type": "code",
      "execution_count": 6,
      "metadata": {
        "id": "HE03WNR11eQH"
      },
      "outputs": [],
      "source": [
        "openai = OpenAI()"
      ]
    },
    {
      "cell_type": "code",
      "execution_count": 13,
      "metadata": {
        "id": "CHhK89rc1lzA"
      },
      "outputs": [],
      "source": [
        "message = \"Greet me like Batman\"\n",
        "response = openai.chat.completions.create(model=\"gpt-4o-mini\", messages=[{\"role\":\"user\", \"content\":message}])"
      ]
    },
    {
      "cell_type": "code",
      "execution_count": 14,
      "metadata": {
        "colab": {
          "base_uri": "https://localhost:8080/"
        },
        "id": "SeVGgI2j2FjS",
        "outputId": "49a26f54-6fe1-4dee-fe8a-2142f72f761f"
      },
      "outputs": [
        {
          "name": "stdout",
          "output_type": "stream",
          "text": [
            "*In a low, gravelly voice:* \"I see you've entered my domain. Who are you, and what brings you to the shadows? Remember, in this city, there’s no room for fear. Only resolve. Choose wisely.\"\n"
          ]
        }
      ],
      "source": [
        "print(response.choices[0].message.content)"
      ]
    },
    {
      "cell_type": "code",
      "execution_count": 22,
      "metadata": {
        "id": "focucp1-2PWu"
      },
      "outputs": [],
      "source": [
        "headers = {\n",
        " \"User-Agent\": \"Mozilla/5.0 (Windows NT 10.0; Win64; x64) AppleWebKit/537.36 (KHTML, like Gecko) Chrome/117.0.0.0 Safari/537.36\"\n",
        "}\n",
        "\n",
        "class webScrape:\n",
        "  def __init__(self, url):\n",
        "    self.url = url\n",
        "    response = requests.get(url, headers=headers)\n",
        "    soup = BeautifulSoup(response.content, 'html.parser')\n",
        "    self.title = soup.title.string if soup.title else \"No title found\"\n",
        "    for irrelevant in soup.body([\"script\", \"style\", \"image\", \"input\"]):\n",
        "      irrelevant.decompose()\n",
        "    self.text = soup.body.get_text(separator=\"\\n\", strip=True)"
      ]
    },
    {
      "cell_type": "code",
      "execution_count": null,
      "metadata": {
        "id": "t4pduL8O_AeM"
      },
      "outputs": [],
      "source": [
        "ed = webScrape(\"https://edwarddonner.com\")\n",
        "print(ed.title)\n",
        "print(ed.text)"
      ]
    },
    {
      "cell_type": "code",
      "execution_count": 12,
      "metadata": {
        "id": "Q4918IUHCqMo"
      },
      "outputs": [],
      "source": [
        "system_prompt = \"You are an assistant that analyzes the contents of a website \\\n",
        "and provides a short summary, ignoring text that might be navigation related. \\\n",
        "Respond in markdown.\""
      ]
    },
    {
      "cell_type": "code",
      "execution_count": 13,
      "metadata": {
        "id": "Z3vMiPa_DYfJ"
      },
      "outputs": [],
      "source": [
        "def user_prompt(website):\n",
        "  user_prompt =  user_prompt = f\"You are looking at a website titled {website.title}\"\n",
        "  user_prompt += \"\\nThe contents of this website is as follows; please provide a short summary of this website in markdown. If it includes news or announcements, then summarize these too.\\n\\n\"\n",
        "  user_prompt += website.text\n",
        "  return user_prompt"
      ]
    },
    {
      "cell_type": "code",
      "execution_count": null,
      "metadata": {
        "id": "u6_kN-qzEEK3"
      },
      "outputs": [],
      "source": [
        "print(user_prompt(ed))"
      ]
    },
    {
      "cell_type": "code",
      "execution_count": 16,
      "metadata": {
        "id": "KCr6WYhcELWF"
      },
      "outputs": [],
      "source": [
        "def messages_for(website):\n",
        "  return [\n",
        "    {\"role\": \"system\", \"content\": system_prompt},\n",
        "    {\"role\": \"user\", \"content\": user_prompt(website)}\n",
        "  ]"
      ]
    },
    {
      "cell_type": "code",
      "execution_count": 17,
      "metadata": {
        "colab": {
          "base_uri": "https://localhost:8080/"
        },
        "id": "dZ14xt3dGe3p",
        "outputId": "3084c8bb-ad14-4c17-f875-3d0593c5e1d8"
      },
      "outputs": [
        {
          "data": {
            "text/plain": [
              "[{'role': 'system',\n",
              "  'content': 'You are an assistant that analyzes the contents of a website and provides a short summary, ignoring text that might be navigation related. Respond in markdown.'},\n",
              " {'role': 'user',\n",
              "  'content': 'You are looking at a website titled Home - Edward Donner\\nThe contents of this website is as follows; please provide a short summary of this website in markdown. If it includes news or announcements, then summarize these too.\\n\\nHome\\nConnect Four\\nOutsmart\\nAn arena that pits LLMs against each other in a battle of diplomacy and deviousness\\nAbout\\nPosts\\nWell, hi there.\\nI’m Ed. I like writing code and experimenting with LLMs, and hopefully you’re here because you do too. I also enjoy DJing (but I’m badly out of practice), amateur electronic music production (\\nvery\\namateur) and losing myself in\\nHacker News\\n, nodding my head sagely to things I only half understand.\\nI’m the co-founder and CTO of\\nNebula.io\\n. We’re applying AI to a field where it can make a massive, positive impact: helping people discover their potential and pursue their reason for being. Recruiters use our product today to source, understand, engage and manage talent. I’m previously the founder and CEO of AI startup untapt,\\nacquired in 2021\\n.\\nWe work with groundbreaking, proprietary LLMs verticalized for talent, we’ve\\npatented\\nour matching model, and our award-winning platform has happy customers and tons of press coverage.\\nConnect\\nwith me for more!\\nMay 28, 2025\\nConnecting my courses – become an LLM expert and leader\\nMay 18, 2025\\n2025 AI Executive Briefing\\nApril 21, 2025\\nThe Complete Agentic AI Engineering Course\\nJanuary 23, 2025\\nLLM Workshop – Hands-on with Agents – resources\\nNavigation\\nHome\\nConnect Four\\nOutsmart\\nAn arena that pits LLMs against each other in a battle of diplomacy and deviousness\\nAbout\\nPosts\\nGet in touch\\ned [at] edwarddonner [dot] com\\nwww.edwarddonner.com\\nFollow me\\nLinkedIn\\nTwitter\\nFacebook\\nSubscribe to newsletter\\nType your email…\\nSubscribe'}]"
            ]
          },
          "execution_count": 17,
          "metadata": {},
          "output_type": "execute_result"
        }
      ],
      "source": [
        "messages_for(ed)"
      ]
    },
    {
      "cell_type": "code",
      "execution_count": 18,
      "metadata": {
        "colab": {
          "base_uri": "https://localhost:8080/"
        },
        "id": "RYzddI-JGhGb",
        "outputId": "55472a41-51d4-40d3-8693-42c7ed339dde"
      },
      "outputs": [
        {
          "name": "stdout",
          "output_type": "stream",
          "text": [
            "# Summary of Edward Donner's Website\n",
            "\n",
            "Edward Donner's website showcases his interests in coding, large language models (LLMs), and electronic music. He is the co-founder and CTO of Nebula.io, which focuses on leveraging AI to help individuals discover their potential in talent management. Previously, he founded the AI startup untapt, which was acquired in 2021.\n",
            "\n",
            "## Featured Content\n",
            "- **Connect Four**: A platform for pitting LLMs against each other in strategic challenges.\n",
            "- **Outsmart**: An arena for competitive diplomatic AI interactions.\n",
            "\n",
            "## News and Announcements\n",
            "- **May 28, 2025**: Announcement of a course designed to help individuals become experts and leaders in LLM.\n",
            "- **May 18, 2025**: Information about the 2025 AI Executive Briefing.\n",
            "- **April 21, 2025**: Introduction of \"The Complete Agentic AI Engineering Course.\"\n",
            "- **January 23, 2025**: Resources for a workshop focused on hands-on experience with AI agents.\n",
            "\n",
            "The website encourages connections and engagement with Ed through various social media platforms.\n"
          ]
        }
      ],
      "source": [
        "response = openai.chat.completions.create(model=\"gpt-4o-mini\", messages=messages_for(ed))\n",
        "print(response.choices[0].message.content)"
      ]
    },
    {
      "cell_type": "code",
      "execution_count": 19,
      "metadata": {
        "id": "8ZEVART4Gu2-"
      },
      "outputs": [],
      "source": [
        "def summarize(url):\n",
        "  website = webScrape(url)\n",
        "  response = openai.chat.completions.create(model=\"gpt-4o-mini\", messages=messages_for(website))\n",
        "  return response.choices[0].message.content"
      ]
    },
    {
      "cell_type": "code",
      "execution_count": 20,
      "metadata": {
        "colab": {
          "base_uri": "https://localhost:8080/",
          "height": 157
        },
        "id": "UHyTbrw9HrSP",
        "outputId": "645fb9bf-5f2b-4531-d784-94b507a21a52"
      },
      "outputs": [
        {
          "data": {
            "application/vnd.google.colaboratory.intrinsic+json": {
              "type": "string"
            },
            "text/plain": [
              "\"# Summary of Edward Donner's Website\\n\\nEdward Donner's website serves as a personal and professional platform for sharing insights on coding, experiments with Large Language Models (LLMs), and updates relating to his work in AI. \\n\\n### About Ed\\n- Ed identifies himself as a co-founder and CTO of **Nebula.io**, a company that utilizes AI to assist individuals in discovering their potential in the workforce. \\n- He was also the founder and CEO of **untapt**, an AI startup acquired in 2021.\\n- Interests include DJing, amateur electronic music production, and engaging with technology news.\\n\\n### LLM Focus\\n- The website indicates a focus on LLMs and includes a feature called **Connect Four**, designed to facilitate competitive interactions involving LLMs.\\n\\n### News and Announcements\\n1. **Connecting my courses – become an LLM expert and leader** (May 28, 2025)\\n2. **2025 AI Executive Briefing** (May 18, 2025)\\n3. **The Complete Agentic AI Engineering Course** (April 21, 2025)\\n4. **LLM Workshop – Hands-on with Agents – resources** (January 23, 2025)\\n\\n### Conclusion\\nEdward Donner engages with the AI community through his work, providing educational resources and highlights around LLMs, while sharing a glimpse into both his professional background and personal interests.\""
            ]
          },
          "execution_count": 20,
          "metadata": {},
          "output_type": "execute_result"
        }
      ],
      "source": [
        "summarize(\"https://edwarddonner.com\")"
      ]
    },
    {
      "cell_type": "code",
      "execution_count": 21,
      "metadata": {
        "id": "psoYjmShIKhs"
      },
      "outputs": [],
      "source": [
        "from IPython.display import Markdown, display"
      ]
    },
    {
      "cell_type": "code",
      "execution_count": 23,
      "metadata": {
        "colab": {
          "base_uri": "https://localhost:8080/",
          "height": 364
        },
        "id": "XPCDegrDHvyF",
        "outputId": "328d1cce-dfe3-4f3e-c787-6537a255b86d"
      },
      "outputs": [
        {
          "data": {
            "text/markdown": [
              "# Summary of Edward Donner's Website\n",
              "\n",
              "Edward Donner's website serves as a personal and professional platform where he shares his interests in coding, LLMs (Large Language Models), and electronic music. He is the co-founder and CTO of Nebula.io, a company focused on leveraging AI to enhance talent discovery and management.\n",
              "\n",
              "## Key Highlights:\n",
              "\n",
              "- **Personal Introduction**: Ed expresses his passion for coding and experimenting with LLMs, as well as his interest in DJing and electronic music production.\n",
              "  \n",
              "- **Professional Background**: He has a history as the founder and CEO of an AI startup named untapt, which was acquired in 2021, and highlights the innovative work done at Nebula.io with proprietary LLMs and a patented matching model.\n",
              "\n",
              "- **Courses and Workshops**: The website features announcements for various upcoming courses and workshops aimed at educating individuals about LLMs and AI. Key events include:\n",
              "  - **May 28, 2025**: Connecting my courses – become an LLM expert and leader\n",
              "  - **May 18, 2025**: 2025 AI Executive Briefing\n",
              "  - **April 21, 2025**: The Complete Agentic AI Engineering Course\n",
              "  - **January 23, 2025**: LLM Workshop – Hands-on with Agents – resources\n",
              "\n",
              "Visitors are encouraged to connect with Ed through social media and newsletters."
            ],
            "text/plain": [
              "<IPython.core.display.Markdown object>"
            ]
          },
          "metadata": {},
          "output_type": "display_data"
        }
      ],
      "source": [
        "def display_markdown(url):\n",
        "  summary = summarize(url)\n",
        "  display(Markdown(summary))\n",
        "\n",
        "display_markdown(\"https://edwarddonner.com\")"
      ]
    },
    {
      "cell_type": "markdown",
      "metadata": {},
      "source": []
    },
    {
      "cell_type": "markdown",
      "metadata": {
        "id": "JlMFUwikLp_3"
      },
      "source": [
        "You may notice that if you try display_summary(\"https://openai.com\") - it doesn't work! That's because OpenAI has a fancy website that uses Javascript. There are many ways around this that some of you might be familiar with. For example, Selenium is a hugely popular framework that runs a browser behind the scenes, renders the page, and allows you to query it. If you have experience with Selenium, Playwright or similar, then feel free to improve the Website class to use them."
      ]
    },
    {
      "cell_type": "code",
      "execution_count": 25,
      "metadata": {
        "colab": {
          "base_uri": "https://localhost:8080/"
        },
        "id": "xmdpnkoKMEm6",
        "outputId": "a4f5233d-3f12-4365-9b35-ad52fcf2ee1e"
      },
      "outputs": [
        {
          "name": "stdout",
          "output_type": "stream",
          "text": [
            "Collecting playwright\n",
            "  Downloading playwright-1.55.0-py3-none-manylinux1_x86_64.whl.metadata (3.5 kB)\n",
            "Collecting pyee<14,>=13 (from playwright)\n",
            "  Downloading pyee-13.0.0-py3-none-any.whl.metadata (2.9 kB)\n",
            "Requirement already satisfied: greenlet<4.0.0,>=3.1.1 in /usr/local/lib/python3.12/dist-packages (from playwright) (3.2.4)\n",
            "Requirement already satisfied: typing-extensions in /usr/local/lib/python3.12/dist-packages (from pyee<14,>=13->playwright) (4.15.0)\n",
            "Downloading playwright-1.55.0-py3-none-manylinux1_x86_64.whl (45.9 MB)\n",
            "\u001b[2K   \u001b[90m━━━━━━━━━━━━━━━━━━━━━━━━━━━━━━━━━━━━━━━━\u001b[0m \u001b[32m45.9/45.9 MB\u001b[0m \u001b[31m28.6 MB/s\u001b[0m eta \u001b[36m0:00:00\u001b[0m\n",
            "\u001b[?25hDownloading pyee-13.0.0-py3-none-any.whl (15 kB)\n",
            "Installing collected packages: pyee, playwright\n",
            "Successfully installed playwright-1.55.0 pyee-13.0.0\n"
          ]
        }
      ],
      "source": [
        "!pip install playwright"
      ]
    },
    {
      "cell_type": "code",
      "execution_count": 32,
      "metadata": {
        "id": "k9jQ3P3PLzx5"
      },
      "outputs": [],
      "source": [
        "from playwright.sync_api import sync_playwright"
      ]
    },
    {
      "cell_type": "code",
      "execution_count": 33,
      "metadata": {
        "id": "p8qYQzCcIU55"
      },
      "outputs": [],
      "source": [
        "from playwright.async_api import async_playwright\n",
        "\n",
        "async def webScrapeWithPlaywright(url):\n",
        "  async with async_playwright() as p:\n",
        "    browser = await p.chromium.launch(headless=True)\n",
        "    page = await browser.new_page()\n",
        "    await page.goto(url)\n",
        "    content = await page.content()\n",
        "    await browser.close()\n",
        "    return content"
      ]
    },
    {
      "cell_type": "code",
      "execution_count": 34,
      "metadata": {
        "id": "ItdH-TzhNa4M"
      },
      "outputs": [],
      "source": [
        "def user_prompt(website):\n",
        "  user_prompt =  user_prompt = f\"Please Summarize the Website content I am sharing\""
      ]
    },
    {
      "cell_type": "code",
      "execution_count": 35,
      "metadata": {
        "id": "1ytSi_aHNSYq"
      },
      "outputs": [],
      "source": [
        "def messages_for(website):\n",
        "  return [\n",
        "    {\"role\": \"system\", \"content\": \"You speak Dutch\"},\n",
        "    {\"role\": \"user\", \"content\": user_prompt(website)}\n",
        "  ]"
      ]
    },
    {
      "cell_type": "code",
      "execution_count": 36,
      "metadata": {
        "id": "smi2CsqPNEjG"
      },
      "outputs": [],
      "source": [
        "async def summarize(url):\n",
        "  websiteContent = await webScrapeWithPlaywright(url)\n",
        "  response = openai.chat.completions.create(model=\"gpt-4o-mini\", messages=messages_for(websiteContent))\n",
        "  return response.choices[0].message.content"
      ]
    },
    {
      "cell_type": "code",
      "execution_count": 40,
      "metadata": {
        "colab": {
          "base_uri": "https://localhost:8080/",
          "height": 339
        },
        "id": "U3Za9hE2OTuL",
        "outputId": "a52bfc07-866f-4e36-86bb-708b3db83a22"
      },
      "outputs": [
        {
          "ename": "BadRequestError",
          "evalue": "Error code: 400 - {'error': {'message': \"Invalid value for 'content': expected a string, got null.\", 'type': 'invalid_request_error', 'param': 'messages.[1].content', 'code': None}}",
          "output_type": "error",
          "traceback": [
            "\u001b[0;31m---------------------------------------------------------------------------\u001b[0m",
            "\u001b[0;31mBadRequestError\u001b[0m                           Traceback (most recent call last)",
            "\u001b[0;32m/tmp/ipython-input-722009659.py\u001b[0m in \u001b[0;36m<cell line: 1>\u001b[0;34m()\u001b[0m\n\u001b[1;32m      6\u001b[0m   \u001b[0mdisplay\u001b[0m\u001b[0;34m(\u001b[0m\u001b[0mMarkdown\u001b[0m\u001b[0;34m(\u001b[0m\u001b[0msummary\u001b[0m\u001b[0;34m)\u001b[0m\u001b[0;34m)\u001b[0m\u001b[0;34m\u001b[0m\u001b[0;34m\u001b[0m\u001b[0m\n\u001b[1;32m      7\u001b[0m \u001b[0;34m\u001b[0m\u001b[0m\n\u001b[0;32m----> 8\u001b[0;31m \u001b[0;32mawait\u001b[0m \u001b[0mdisplay_markdown\u001b[0m\u001b[0;34m(\u001b[0m\u001b[0;34m)\u001b[0m\u001b[0;34m\u001b[0m\u001b[0;34m\u001b[0m\u001b[0m\n\u001b[0m",
            "\u001b[0;32m/tmp/ipython-input-722009659.py\u001b[0m in \u001b[0;36mdisplay_markdown\u001b[0;34m()\u001b[0m\n\u001b[1;32m      3\u001b[0m \u001b[0;34m\u001b[0m\u001b[0m\n\u001b[1;32m      4\u001b[0m \u001b[0;32masync\u001b[0m \u001b[0;32mdef\u001b[0m \u001b[0mdisplay_markdown\u001b[0m\u001b[0;34m(\u001b[0m\u001b[0;34m)\u001b[0m\u001b[0;34m:\u001b[0m\u001b[0;34m\u001b[0m\u001b[0;34m\u001b[0m\u001b[0m\n\u001b[0;32m----> 5\u001b[0;31m   \u001b[0msummary\u001b[0m \u001b[0;34m=\u001b[0m \u001b[0;32mawait\u001b[0m \u001b[0msummarize\u001b[0m\u001b[0;34m(\u001b[0m\u001b[0;34m\"https://openai.com\"\u001b[0m\u001b[0;34m)\u001b[0m\u001b[0;34m\u001b[0m\u001b[0;34m\u001b[0m\u001b[0m\n\u001b[0m\u001b[1;32m      6\u001b[0m   \u001b[0mdisplay\u001b[0m\u001b[0;34m(\u001b[0m\u001b[0mMarkdown\u001b[0m\u001b[0;34m(\u001b[0m\u001b[0msummary\u001b[0m\u001b[0;34m)\u001b[0m\u001b[0;34m)\u001b[0m\u001b[0;34m\u001b[0m\u001b[0;34m\u001b[0m\u001b[0m\n\u001b[1;32m      7\u001b[0m \u001b[0;34m\u001b[0m\u001b[0m\n",
            "\u001b[0;32m/tmp/ipython-input-243541640.py\u001b[0m in \u001b[0;36msummarize\u001b[0;34m(url)\u001b[0m\n\u001b[1;32m      1\u001b[0m \u001b[0;32masync\u001b[0m \u001b[0;32mdef\u001b[0m \u001b[0msummarize\u001b[0m\u001b[0;34m(\u001b[0m\u001b[0murl\u001b[0m\u001b[0;34m)\u001b[0m\u001b[0;34m:\u001b[0m\u001b[0;34m\u001b[0m\u001b[0;34m\u001b[0m\u001b[0m\n\u001b[1;32m      2\u001b[0m   \u001b[0mwebsiteContent\u001b[0m \u001b[0;34m=\u001b[0m \u001b[0;32mawait\u001b[0m \u001b[0mwebScrapeWithPlaywright\u001b[0m\u001b[0;34m(\u001b[0m\u001b[0murl\u001b[0m\u001b[0;34m)\u001b[0m\u001b[0;34m\u001b[0m\u001b[0;34m\u001b[0m\u001b[0m\n\u001b[0;32m----> 3\u001b[0;31m   \u001b[0mresponse\u001b[0m \u001b[0;34m=\u001b[0m \u001b[0mopenai\u001b[0m\u001b[0;34m.\u001b[0m\u001b[0mchat\u001b[0m\u001b[0;34m.\u001b[0m\u001b[0mcompletions\u001b[0m\u001b[0;34m.\u001b[0m\u001b[0mcreate\u001b[0m\u001b[0;34m(\u001b[0m\u001b[0mmodel\u001b[0m\u001b[0;34m=\u001b[0m\u001b[0;34m\"gpt-4o-mini\"\u001b[0m\u001b[0;34m,\u001b[0m \u001b[0mmessages\u001b[0m\u001b[0;34m=\u001b[0m\u001b[0mmessages_for\u001b[0m\u001b[0;34m(\u001b[0m\u001b[0mwebsiteContent\u001b[0m\u001b[0;34m)\u001b[0m\u001b[0;34m)\u001b[0m\u001b[0;34m\u001b[0m\u001b[0;34m\u001b[0m\u001b[0m\n\u001b[0m\u001b[1;32m      4\u001b[0m   \u001b[0;32mreturn\u001b[0m \u001b[0mresponse\u001b[0m\u001b[0;34m.\u001b[0m\u001b[0mchoices\u001b[0m\u001b[0;34m[\u001b[0m\u001b[0;36m0\u001b[0m\u001b[0;34m]\u001b[0m\u001b[0;34m.\u001b[0m\u001b[0mmessage\u001b[0m\u001b[0;34m.\u001b[0m\u001b[0mcontent\u001b[0m\u001b[0;34m\u001b[0m\u001b[0;34m\u001b[0m\u001b[0m\n",
            "\u001b[0;32m/usr/local/lib/python3.12/dist-packages/openai/_utils/_utils.py\u001b[0m in \u001b[0;36mwrapper\u001b[0;34m(*args, **kwargs)\u001b[0m\n\u001b[1;32m    284\u001b[0m                         \u001b[0mmsg\u001b[0m \u001b[0;34m=\u001b[0m \u001b[0;34mf\"Missing required argument: {quote(missing[0])}\"\u001b[0m\u001b[0;34m\u001b[0m\u001b[0;34m\u001b[0m\u001b[0m\n\u001b[1;32m    285\u001b[0m                 \u001b[0;32mraise\u001b[0m \u001b[0mTypeError\u001b[0m\u001b[0;34m(\u001b[0m\u001b[0mmsg\u001b[0m\u001b[0;34m)\u001b[0m\u001b[0;34m\u001b[0m\u001b[0;34m\u001b[0m\u001b[0m\n\u001b[0;32m--> 286\u001b[0;31m             \u001b[0;32mreturn\u001b[0m \u001b[0mfunc\u001b[0m\u001b[0;34m(\u001b[0m\u001b[0;34m*\u001b[0m\u001b[0margs\u001b[0m\u001b[0;34m,\u001b[0m \u001b[0;34m**\u001b[0m\u001b[0mkwargs\u001b[0m\u001b[0;34m)\u001b[0m\u001b[0;34m\u001b[0m\u001b[0;34m\u001b[0m\u001b[0m\n\u001b[0m\u001b[1;32m    287\u001b[0m \u001b[0;34m\u001b[0m\u001b[0m\n\u001b[1;32m    288\u001b[0m         \u001b[0;32mreturn\u001b[0m \u001b[0mwrapper\u001b[0m  \u001b[0;31m# type: ignore\u001b[0m\u001b[0;34m\u001b[0m\u001b[0;34m\u001b[0m\u001b[0m\n",
            "\u001b[0;32m/usr/local/lib/python3.12/dist-packages/openai/resources/chat/completions/completions.py\u001b[0m in \u001b[0;36mcreate\u001b[0;34m(self, messages, model, audio, frequency_penalty, function_call, functions, logit_bias, logprobs, max_completion_tokens, max_tokens, metadata, modalities, n, parallel_tool_calls, prediction, presence_penalty, prompt_cache_key, reasoning_effort, response_format, safety_identifier, seed, service_tier, stop, store, stream, stream_options, temperature, tool_choice, tools, top_logprobs, top_p, user, verbosity, web_search_options, extra_headers, extra_query, extra_body, timeout)\u001b[0m\n\u001b[1;32m   1145\u001b[0m     ) -> ChatCompletion | Stream[ChatCompletionChunk]:\n\u001b[1;32m   1146\u001b[0m         \u001b[0mvalidate_response_format\u001b[0m\u001b[0;34m(\u001b[0m\u001b[0mresponse_format\u001b[0m\u001b[0;34m)\u001b[0m\u001b[0;34m\u001b[0m\u001b[0;34m\u001b[0m\u001b[0m\n\u001b[0;32m-> 1147\u001b[0;31m         return self._post(\n\u001b[0m\u001b[1;32m   1148\u001b[0m             \u001b[0;34m\"/chat/completions\"\u001b[0m\u001b[0;34m,\u001b[0m\u001b[0;34m\u001b[0m\u001b[0;34m\u001b[0m\u001b[0m\n\u001b[1;32m   1149\u001b[0m             body=maybe_transform(\n",
            "\u001b[0;32m/usr/local/lib/python3.12/dist-packages/openai/_base_client.py\u001b[0m in \u001b[0;36mpost\u001b[0;34m(self, path, cast_to, body, options, files, stream, stream_cls)\u001b[0m\n\u001b[1;32m   1257\u001b[0m             \u001b[0mmethod\u001b[0m\u001b[0;34m=\u001b[0m\u001b[0;34m\"post\"\u001b[0m\u001b[0;34m,\u001b[0m \u001b[0murl\u001b[0m\u001b[0;34m=\u001b[0m\u001b[0mpath\u001b[0m\u001b[0;34m,\u001b[0m \u001b[0mjson_data\u001b[0m\u001b[0;34m=\u001b[0m\u001b[0mbody\u001b[0m\u001b[0;34m,\u001b[0m \u001b[0mfiles\u001b[0m\u001b[0;34m=\u001b[0m\u001b[0mto_httpx_files\u001b[0m\u001b[0;34m(\u001b[0m\u001b[0mfiles\u001b[0m\u001b[0;34m)\u001b[0m\u001b[0;34m,\u001b[0m \u001b[0;34m**\u001b[0m\u001b[0moptions\u001b[0m\u001b[0;34m\u001b[0m\u001b[0;34m\u001b[0m\u001b[0m\n\u001b[1;32m   1258\u001b[0m         )\n\u001b[0;32m-> 1259\u001b[0;31m         \u001b[0;32mreturn\u001b[0m \u001b[0mcast\u001b[0m\u001b[0;34m(\u001b[0m\u001b[0mResponseT\u001b[0m\u001b[0;34m,\u001b[0m \u001b[0mself\u001b[0m\u001b[0;34m.\u001b[0m\u001b[0mrequest\u001b[0m\u001b[0;34m(\u001b[0m\u001b[0mcast_to\u001b[0m\u001b[0;34m,\u001b[0m \u001b[0mopts\u001b[0m\u001b[0;34m,\u001b[0m \u001b[0mstream\u001b[0m\u001b[0;34m=\u001b[0m\u001b[0mstream\u001b[0m\u001b[0;34m,\u001b[0m \u001b[0mstream_cls\u001b[0m\u001b[0;34m=\u001b[0m\u001b[0mstream_cls\u001b[0m\u001b[0;34m)\u001b[0m\u001b[0;34m)\u001b[0m\u001b[0;34m\u001b[0m\u001b[0;34m\u001b[0m\u001b[0m\n\u001b[0m\u001b[1;32m   1260\u001b[0m \u001b[0;34m\u001b[0m\u001b[0m\n\u001b[1;32m   1261\u001b[0m     def patch(\n",
            "\u001b[0;32m/usr/local/lib/python3.12/dist-packages/openai/_base_client.py\u001b[0m in \u001b[0;36mrequest\u001b[0;34m(self, cast_to, options, stream, stream_cls)\u001b[0m\n\u001b[1;32m   1045\u001b[0m \u001b[0;34m\u001b[0m\u001b[0m\n\u001b[1;32m   1046\u001b[0m                 \u001b[0mlog\u001b[0m\u001b[0;34m.\u001b[0m\u001b[0mdebug\u001b[0m\u001b[0;34m(\u001b[0m\u001b[0;34m\"Re-raising status error\"\u001b[0m\u001b[0;34m)\u001b[0m\u001b[0;34m\u001b[0m\u001b[0;34m\u001b[0m\u001b[0m\n\u001b[0;32m-> 1047\u001b[0;31m                 \u001b[0;32mraise\u001b[0m \u001b[0mself\u001b[0m\u001b[0;34m.\u001b[0m\u001b[0m_make_status_error_from_response\u001b[0m\u001b[0;34m(\u001b[0m\u001b[0merr\u001b[0m\u001b[0;34m.\u001b[0m\u001b[0mresponse\u001b[0m\u001b[0;34m)\u001b[0m \u001b[0;32mfrom\u001b[0m \u001b[0;32mNone\u001b[0m\u001b[0;34m\u001b[0m\u001b[0;34m\u001b[0m\u001b[0m\n\u001b[0m\u001b[1;32m   1048\u001b[0m \u001b[0;34m\u001b[0m\u001b[0m\n\u001b[1;32m   1049\u001b[0m             \u001b[0;32mbreak\u001b[0m\u001b[0;34m\u001b[0m\u001b[0;34m\u001b[0m\u001b[0m\n",
            "\u001b[0;31mBadRequestError\u001b[0m: Error code: 400 - {'error': {'message': \"Invalid value for 'content': expected a string, got null.\", 'type': 'invalid_request_error', 'param': 'messages.[1].content', 'code': None}}"
          ]
        }
      ],
      "source": [
        "from IPython.display import Markdown, display\n",
        "import asyncio\n",
        "\n",
        "async def display_markdown():\n",
        "  summary = await summarize(\"https://openai.com\")\n",
        "  display(Markdown(summary))\n",
        "\n",
        "await display_markdown()"
      ]
    },
    {
      "cell_type": "code",
      "execution_count": 39,
      "metadata": {
        "colab": {
          "base_uri": "https://localhost:8080/"
        },
        "id": "8f41030b",
        "outputId": "cd1a3116-2e29-413e-94ed-20af328fcaa6"
      },
      "outputs": [
        {
          "name": "stdout",
          "output_type": "stream",
          "text": [
            "Downloading Chromium 140.0.7339.16 (playwright build v1187)\u001b[2m from https://cdn.playwright.dev/dbazure/download/playwright/builds/chromium/1187/chromium-linux.zip\u001b[22m\n",
            "\u001b[1G173.7 MiB [] 0% 0.0s\u001b[0K\u001b[1G173.7 MiB [] 0% 52.1s\u001b[0K\u001b[1G173.7 MiB [] 0% 22.4s\u001b[0K\u001b[1G173.7 MiB [] 0% 13.4s\u001b[0K\u001b[1G173.7 MiB [] 0% 7.2s\u001b[0K\u001b[1G173.7 MiB [] 1% 4.7s\u001b[0K\u001b[1G173.7 MiB [] 2% 3.3s\u001b[0K\u001b[1G173.7 MiB [] 4% 2.7s\u001b[0K\u001b[1G173.7 MiB [] 5% 2.4s\u001b[0K\u001b[1G173.7 MiB [] 5% 2.3s\u001b[0K\u001b[1G173.7 MiB [] 6% 2.2s\u001b[0K\u001b[1G173.7 MiB [] 8% 2.0s\u001b[0K\u001b[1G173.7 MiB [] 9% 1.9s\u001b[0K\u001b[1G173.7 MiB [] 10% 1.9s\u001b[0K\u001b[1G173.7 MiB [] 11% 1.8s\u001b[0K\u001b[1G173.7 MiB [] 12% 1.7s\u001b[0K\u001b[1G173.7 MiB [] 13% 1.6s\u001b[0K\u001b[1G173.7 MiB [] 15% 1.5s\u001b[0K\u001b[1G173.7 MiB [] 16% 1.5s\u001b[0K\u001b[1G173.7 MiB [] 18% 1.4s\u001b[0K\u001b[1G173.7 MiB [] 19% 1.4s\u001b[0K\u001b[1G173.7 MiB [] 20% 1.3s\u001b[0K\u001b[1G173.7 MiB [] 22% 1.2s\u001b[0K\u001b[1G173.7 MiB [] 23% 1.2s\u001b[0K\u001b[1G173.7 MiB [] 25% 1.2s\u001b[0K\u001b[1G173.7 MiB [] 27% 1.2s\u001b[0K\u001b[1G173.7 MiB [] 29% 1.1s\u001b[0K\u001b[1G173.7 MiB [] 31% 1.0s\u001b[0K\u001b[1G173.7 MiB [] 32% 1.0s\u001b[0K\u001b[1G173.7 MiB [] 34% 1.0s\u001b[0K\u001b[1G173.7 MiB [] 35% 0.9s\u001b[0K\u001b[1G173.7 MiB [] 36% 0.9s\u001b[0K\u001b[1G173.7 MiB [] 38% 0.9s\u001b[0K\u001b[1G173.7 MiB [] 40% 0.8s\u001b[0K\u001b[1G173.7 MiB [] 41% 0.8s\u001b[0K\u001b[1G173.7 MiB [] 43% 0.8s\u001b[0K\u001b[1G173.7 MiB [] 44% 0.7s\u001b[0K\u001b[1G173.7 MiB [] 46% 0.7s\u001b[0K\u001b[1G173.7 MiB [] 47% 0.7s\u001b[0K\u001b[1G173.7 MiB [] 49% 0.7s\u001b[0K\u001b[1G173.7 MiB [] 50% 0.7s\u001b[0K\u001b[1G173.7 MiB [] 52% 0.6s\u001b[0K\u001b[1G173.7 MiB [] 54% 0.6s\u001b[0K\u001b[1G173.7 MiB [] 56% 0.6s\u001b[0K\u001b[1G173.7 MiB [] 58% 0.5s\u001b[0K\u001b[1G173.7 MiB [] 60% 0.5s\u001b[0K\u001b[1G173.7 MiB [] 61% 0.5s\u001b[0K\u001b[1G173.7 MiB [] 63% 0.5s\u001b[0K\u001b[1G173.7 MiB [] 64% 0.5s\u001b[0K\u001b[1G173.7 MiB [] 66% 0.4s\u001b[0K\u001b[1G173.7 MiB [] 68% 0.4s\u001b[0K\u001b[1G173.7 MiB [] 69% 0.4s\u001b[0K\u001b[1G173.7 MiB [] 71% 0.3s\u001b[0K\u001b[1G173.7 MiB [] 73% 0.3s\u001b[0K\u001b[1G173.7 MiB [] 74% 0.3s\u001b[0K\u001b[1G173.7 MiB [] 75% 0.3s\u001b[0K\u001b[1G173.7 MiB [] 76% 0.3s\u001b[0K\u001b[1G173.7 MiB [] 77% 0.3s\u001b[0K\u001b[1G173.7 MiB [] 79% 0.3s\u001b[0K\u001b[1G173.7 MiB [] 80% 0.2s\u001b[0K\u001b[1G173.7 MiB [] 81% 0.2s\u001b[0K\u001b[1G173.7 MiB [] 82% 0.2s\u001b[0K\u001b[1G173.7 MiB [] 84% 0.2s\u001b[0K\u001b[1G173.7 MiB [] 85% 0.2s\u001b[0K\u001b[1G173.7 MiB [] 87% 0.2s\u001b[0K\u001b[1G173.7 MiB [] 89% 0.1s\u001b[0K\u001b[1G173.7 MiB [] 90% 0.1s\u001b[0K\u001b[1G173.7 MiB [] 92% 0.1s\u001b[0K\u001b[1G173.7 MiB [] 93% 0.1s\u001b[0K\u001b[1G173.7 MiB [] 95% 0.1s\u001b[0K\u001b[1G173.7 MiB [] 97% 0.0s\u001b[0K\u001b[1G173.7 MiB [] 98% 0.0s\u001b[0K\u001b[1G173.7 MiB [] 100% 0.0s\u001b[0K\n",
            "Chromium 140.0.7339.16 (playwright build v1187) downloaded to /root/.cache/ms-playwright/chromium-1187\n",
            "Downloading Chromium Headless Shell 140.0.7339.16 (playwright build v1187)\u001b[2m from https://cdn.playwright.dev/dbazure/download/playwright/builds/chromium/1187/chromium-headless-shell-linux.zip\u001b[22m\n",
            "\u001b[1G104.3 MiB [] 0% 0.0s\u001b[0K\u001b[1G104.3 MiB [] 0% 26.6s\u001b[0K\u001b[1G104.3 MiB [] 0% 13.1s\u001b[0K\u001b[1G104.3 MiB [] 0% 8.5s\u001b[0K\u001b[1G104.3 MiB [] 1% 4.2s\u001b[0K\u001b[1G104.3 MiB [] 2% 2.9s\u001b[0K\u001b[1G104.3 MiB [] 3% 2.4s\u001b[0K\u001b[1G104.3 MiB [] 5% 2.1s\u001b[0K\u001b[1G104.3 MiB [] 6% 1.9s\u001b[0K\u001b[1G104.3 MiB [] 7% 1.8s\u001b[0K\u001b[1G104.3 MiB [] 9% 1.8s\u001b[0K\u001b[1G104.3 MiB [] 9% 1.7s\u001b[0K\u001b[1G104.3 MiB [] 10% 1.8s\u001b[0K\u001b[1G104.3 MiB [] 11% 1.8s\u001b[0K\u001b[1G104.3 MiB [] 12% 1.9s\u001b[0K\u001b[1G104.3 MiB [] 13% 1.8s\u001b[0K\u001b[1G104.3 MiB [] 14% 1.7s\u001b[0K\u001b[1G104.3 MiB [] 15% 1.7s\u001b[0K\u001b[1G104.3 MiB [] 16% 1.7s\u001b[0K\u001b[1G104.3 MiB [] 17% 1.6s\u001b[0K\u001b[1G104.3 MiB [] 19% 1.5s\u001b[0K\u001b[1G104.3 MiB [] 21% 1.4s\u001b[0K\u001b[1G104.3 MiB [] 22% 1.4s\u001b[0K\u001b[1G104.3 MiB [] 23% 1.3s\u001b[0K\u001b[1G104.3 MiB [] 24% 1.3s\u001b[0K\u001b[1G104.3 MiB [] 26% 1.2s\u001b[0K\u001b[1G104.3 MiB [] 28% 1.2s\u001b[0K\u001b[1G104.3 MiB [] 30% 1.1s\u001b[0K\u001b[1G104.3 MiB [] 31% 1.1s\u001b[0K\u001b[1G104.3 MiB [] 33% 1.0s\u001b[0K\u001b[1G104.3 MiB [] 35% 1.0s\u001b[0K\u001b[1G104.3 MiB [] 37% 0.9s\u001b[0K\u001b[1G104.3 MiB [] 38% 0.9s\u001b[0K\u001b[1G104.3 MiB [] 40% 0.8s\u001b[0K\u001b[1G104.3 MiB [] 42% 0.8s\u001b[0K\u001b[1G104.3 MiB [] 44% 0.8s\u001b[0K\u001b[1G104.3 MiB [] 46% 0.8s\u001b[0K\u001b[1G104.3 MiB [] 48% 0.7s\u001b[0K\u001b[1G104.3 MiB [] 50% 0.7s\u001b[0K\u001b[1G104.3 MiB [] 52% 0.6s\u001b[0K\u001b[1G104.3 MiB [] 54% 0.6s\u001b[0K\u001b[1G104.3 MiB [] 57% 0.6s\u001b[0K\u001b[1G104.3 MiB [] 59% 0.5s\u001b[0K\u001b[1G104.3 MiB [] 61% 0.5s\u001b[0K\u001b[1G104.3 MiB [] 63% 0.5s\u001b[0K\u001b[1G104.3 MiB [] 65% 0.4s\u001b[0K\u001b[1G104.3 MiB [] 67% 0.4s\u001b[0K\u001b[1G104.3 MiB [] 68% 0.4s\u001b[0K\u001b[1G104.3 MiB [] 69% 0.4s\u001b[0K\u001b[1G104.3 MiB [] 71% 0.3s\u001b[0K\u001b[1G104.3 MiB [] 73% 0.3s\u001b[0K\u001b[1G104.3 MiB [] 76% 0.3s\u001b[0K\u001b[1G104.3 MiB [] 78% 0.3s\u001b[0K\u001b[1G104.3 MiB [] 80% 0.2s\u001b[0K\u001b[1G104.3 MiB [] 82% 0.2s\u001b[0K\u001b[1G104.3 MiB [] 84% 0.2s\u001b[0K\u001b[1G104.3 MiB [] 87% 0.1s\u001b[0K\u001b[1G104.3 MiB [] 89% 0.1s\u001b[0K\u001b[1G104.3 MiB [] 91% 0.1s\u001b[0K\u001b[1G104.3 MiB [] 92% 0.1s\u001b[0K\u001b[1G104.3 MiB [] 94% 0.1s\u001b[0K\u001b[1G104.3 MiB [] 96% 0.0s\u001b[0K\u001b[1G104.3 MiB [] 98% 0.0s\u001b[0K\u001b[1G104.3 MiB [] 100% 0.0s\u001b[0K\n",
            "Chromium Headless Shell 140.0.7339.16 (playwright build v1187) downloaded to /root/.cache/ms-playwright/chromium_headless_shell-1187\n",
            "Downloading Firefox 141.0 (playwright build v1490)\u001b[2m from https://cdn.playwright.dev/dbazure/download/playwright/builds/firefox/1490/firefox-ubuntu-22.04.zip\u001b[22m\n",
            "\u001b[1G96 MiB [] 0% 0.0s\u001b[0K\u001b[1G96 MiB [] 0% 29.2s\u001b[0K\u001b[1G96 MiB [] 0% 11.3s\u001b[0K\u001b[1G96 MiB [] 0% 8.2s\u001b[0K\u001b[1G96 MiB [] 1% 3.8s\u001b[0K\u001b[1G96 MiB [] 3% 2.4s\u001b[0K\u001b[1G96 MiB [] 5% 1.7s\u001b[0K\u001b[1G96 MiB [] 7% 1.3s\u001b[0K\u001b[1G96 MiB [] 9% 1.3s\u001b[0K\u001b[1G96 MiB [] 9% 1.7s\u001b[0K\u001b[1G96 MiB [] 11% 1.5s\u001b[0K\u001b[1G96 MiB [] 13% 1.5s\u001b[0K\u001b[1G96 MiB [] 14% 1.4s\u001b[0K\u001b[1G96 MiB [] 15% 1.4s\u001b[0K\u001b[1G96 MiB [] 16% 1.4s\u001b[0K\u001b[1G96 MiB [] 17% 1.4s\u001b[0K\u001b[1G96 MiB [] 18% 1.4s\u001b[0K\u001b[1G96 MiB [] 19% 1.4s\u001b[0K\u001b[1G96 MiB [] 20% 1.3s\u001b[0K\u001b[1G96 MiB [] 21% 1.3s\u001b[0K\u001b[1G96 MiB [] 23% 1.3s\u001b[0K\u001b[1G96 MiB [] 24% 1.3s\u001b[0K\u001b[1G96 MiB [] 25% 1.2s\u001b[0K\u001b[1G96 MiB [] 26% 1.2s\u001b[0K\u001b[1G96 MiB [] 28% 1.2s\u001b[0K\u001b[1G96 MiB [] 28% 1.1s\u001b[0K\u001b[1G96 MiB [] 29% 1.2s\u001b[0K\u001b[1G96 MiB [] 30% 1.1s\u001b[0K\u001b[1G96 MiB [] 31% 1.1s\u001b[0K\u001b[1G96 MiB [] 32% 1.1s\u001b[0K\u001b[1G96 MiB [] 33% 1.1s\u001b[0K\u001b[1G96 MiB [] 34% 1.1s\u001b[0K\u001b[1G96 MiB [] 35% 1.1s\u001b[0K\u001b[1G96 MiB [] 36% 1.0s\u001b[0K\u001b[1G96 MiB [] 38% 1.0s\u001b[0K\u001b[1G96 MiB [] 40% 0.9s\u001b[0K\u001b[1G96 MiB [] 42% 0.9s\u001b[0K\u001b[1G96 MiB [] 44% 0.9s\u001b[0K\u001b[1G96 MiB [] 45% 0.8s\u001b[0K\u001b[1G96 MiB [] 47% 0.8s\u001b[0K\u001b[1G96 MiB [] 48% 0.8s\u001b[0K\u001b[1G96 MiB [] 50% 0.8s\u001b[0K\u001b[1G96 MiB [] 51% 0.7s\u001b[0K\u001b[1G96 MiB [] 53% 0.7s\u001b[0K\u001b[1G96 MiB [] 55% 0.7s\u001b[0K\u001b[1G96 MiB [] 56% 0.6s\u001b[0K\u001b[1G96 MiB [] 58% 0.6s\u001b[0K\u001b[1G96 MiB [] 59% 0.6s\u001b[0K\u001b[1G96 MiB [] 61% 0.5s\u001b[0K\u001b[1G96 MiB [] 63% 0.5s\u001b[0K\u001b[1G96 MiB [] 64% 0.5s\u001b[0K\u001b[1G96 MiB [] 66% 0.5s\u001b[0K\u001b[1G96 MiB [] 68% 0.4s\u001b[0K\u001b[1G96 MiB [] 69% 0.4s\u001b[0K\u001b[1G96 MiB [] 70% 0.4s\u001b[0K\u001b[1G96 MiB [] 71% 0.4s\u001b[0K\u001b[1G96 MiB [] 72% 0.4s\u001b[0K\u001b[1G96 MiB [] 74% 0.3s\u001b[0K\u001b[1G96 MiB [] 76% 0.3s\u001b[0K\u001b[1G96 MiB [] 77% 0.3s\u001b[0K\u001b[1G96 MiB [] 79% 0.3s\u001b[0K\u001b[1G96 MiB [] 80% 0.3s\u001b[0K\u001b[1G96 MiB [] 82% 0.2s\u001b[0K\u001b[1G96 MiB [] 83% 0.2s\u001b[0K\u001b[1G96 MiB [] 84% 0.2s\u001b[0K\u001b[1G96 MiB [] 86% 0.2s\u001b[0K\u001b[1G96 MiB [] 88% 0.2s\u001b[0K\u001b[1G96 MiB [] 89% 0.1s\u001b[0K\u001b[1G96 MiB [] 91% 0.1s\u001b[0K\u001b[1G96 MiB [] 92% 0.1s\u001b[0K\u001b[1G96 MiB [] 94% 0.1s\u001b[0K\u001b[1G96 MiB [] 96% 0.1s\u001b[0K\u001b[1G96 MiB [] 97% 0.0s\u001b[0K\u001b[1G96 MiB [] 98% 0.0s\u001b[0K\u001b[1G96 MiB [] 100% 0.0s\u001b[0K\n",
            "Firefox 141.0 (playwright build v1490) downloaded to /root/.cache/ms-playwright/firefox-1490\n",
            "Downloading Webkit 26.0 (playwright build v2203)\u001b[2m from https://cdn.playwright.dev/dbazure/download/playwright/builds/webkit/2203/webkit-ubuntu-22.04.zip\u001b[22m\n",
            "\u001b[1G94.6 MiB [] 0% 0.0s\u001b[0K\u001b[1G94.6 MiB [] 0% 30.5s\u001b[0K\u001b[1G94.6 MiB [] 0% 14.3s\u001b[0K\u001b[1G94.6 MiB [] 0% 8.2s\u001b[0K\u001b[1G94.6 MiB [] 0% 7.0s\u001b[0K\u001b[1G94.6 MiB [] 1% 5.0s\u001b[0K\u001b[1G94.6 MiB [] 2% 4.3s\u001b[0K\u001b[1G94.6 MiB [] 2% 4.2s\u001b[0K\u001b[1G94.6 MiB [] 3% 4.1s\u001b[0K\u001b[1G94.6 MiB [] 4% 3.5s\u001b[0K\u001b[1G94.6 MiB [] 4% 3.4s\u001b[0K\u001b[1G94.6 MiB [] 5% 3.4s\u001b[0K\u001b[1G94.6 MiB [] 5% 3.2s\u001b[0K\u001b[1G94.6 MiB [] 6% 3.0s\u001b[0K\u001b[1G94.6 MiB [] 7% 3.1s\u001b[0K\u001b[1G94.6 MiB [] 7% 3.0s\u001b[0K\u001b[1G94.6 MiB [] 8% 2.9s\u001b[0K\u001b[1G94.6 MiB [] 9% 2.9s\u001b[0K\u001b[1G94.6 MiB [] 10% 2.7s\u001b[0K\u001b[1G94.6 MiB [] 11% 2.6s\u001b[0K\u001b[1G94.6 MiB [] 12% 2.5s\u001b[0K\u001b[1G94.6 MiB [] 13% 2.4s\u001b[0K\u001b[1G94.6 MiB [] 14% 2.3s\u001b[0K\u001b[1G94.6 MiB [] 15% 2.1s\u001b[0K\u001b[1G94.6 MiB [] 16% 2.1s\u001b[0K\u001b[1G94.6 MiB [] 17% 2.1s\u001b[0K\u001b[1G94.6 MiB [] 17% 2.2s\u001b[0K\u001b[1G94.6 MiB [] 18% 2.1s\u001b[0K\u001b[1G94.6 MiB [] 19% 2.0s\u001b[0K\u001b[1G94.6 MiB [] 21% 1.9s\u001b[0K\u001b[1G94.6 MiB [] 22% 1.7s\u001b[0K\u001b[1G94.6 MiB [] 23% 1.7s\u001b[0K\u001b[1G94.6 MiB [] 24% 1.6s\u001b[0K\u001b[1G94.6 MiB [] 25% 1.6s\u001b[0K\u001b[1G94.6 MiB [] 27% 1.6s\u001b[0K\u001b[1G94.6 MiB [] 28% 1.5s\u001b[0K\u001b[1G94.6 MiB [] 30% 1.4s\u001b[0K\u001b[1G94.6 MiB [] 31% 1.3s\u001b[0K\u001b[1G94.6 MiB [] 32% 1.3s\u001b[0K\u001b[1G94.6 MiB [] 34% 1.3s\u001b[0K\u001b[1G94.6 MiB [] 35% 1.2s\u001b[0K\u001b[1G94.6 MiB [] 36% 1.2s\u001b[0K\u001b[1G94.6 MiB [] 37% 1.2s\u001b[0K\u001b[1G94.6 MiB [] 38% 1.2s\u001b[0K\u001b[1G94.6 MiB [] 39% 1.2s\u001b[0K\u001b[1G94.6 MiB [] 40% 1.1s\u001b[0K\u001b[1G94.6 MiB [] 41% 1.1s\u001b[0K\u001b[1G94.6 MiB [] 42% 1.1s\u001b[0K\u001b[1G94.6 MiB [] 43% 1.1s\u001b[0K\u001b[1G94.6 MiB [] 44% 1.0s\u001b[0K\u001b[1G94.6 MiB [] 45% 1.0s\u001b[0K\u001b[1G94.6 MiB [] 46% 1.0s\u001b[0K\u001b[1G94.6 MiB [] 47% 1.0s\u001b[0K\u001b[1G94.6 MiB [] 48% 1.0s\u001b[0K\u001b[1G94.6 MiB [] 49% 1.0s\u001b[0K\u001b[1G94.6 MiB [] 50% 1.0s\u001b[0K\u001b[1G94.6 MiB [] 51% 0.9s\u001b[0K\u001b[1G94.6 MiB [] 52% 0.9s\u001b[0K\u001b[1G94.6 MiB [] 53% 0.9s\u001b[0K\u001b[1G94.6 MiB [] 54% 0.9s\u001b[0K\u001b[1G94.6 MiB [] 55% 0.9s\u001b[0K\u001b[1G94.6 MiB [] 56% 0.8s\u001b[0K\u001b[1G94.6 MiB [] 57% 0.8s\u001b[0K\u001b[1G94.6 MiB [] 58% 0.8s\u001b[0K\u001b[1G94.6 MiB [] 59% 0.8s\u001b[0K\u001b[1G94.6 MiB [] 60% 0.7s\u001b[0K\u001b[1G94.6 MiB [] 61% 0.7s\u001b[0K\u001b[1G94.6 MiB [] 62% 0.7s\u001b[0K\u001b[1G94.6 MiB [] 63% 0.7s\u001b[0K\u001b[1G94.6 MiB [] 65% 0.7s\u001b[0K\u001b[1G94.6 MiB [] 66% 0.6s\u001b[0K\u001b[1G94.6 MiB [] 67% 0.6s\u001b[0K\u001b[1G94.6 MiB [] 68% 0.6s\u001b[0K\u001b[1G94.6 MiB [] 69% 0.6s\u001b[0K\u001b[1G94.6 MiB [] 70% 0.5s\u001b[0K\u001b[1G94.6 MiB [] 71% 0.5s\u001b[0K\u001b[1G94.6 MiB [] 72% 0.5s\u001b[0K\u001b[1G94.6 MiB [] 73% 0.5s\u001b[0K\u001b[1G94.6 MiB [] 74% 0.5s\u001b[0K\u001b[1G94.6 MiB [] 75% 0.4s\u001b[0K\u001b[1G94.6 MiB [] 76% 0.4s\u001b[0K\u001b[1G94.6 MiB [] 77% 0.4s\u001b[0K\u001b[1G94.6 MiB [] 78% 0.4s\u001b[0K\u001b[1G94.6 MiB [] 79% 0.4s\u001b[0K\u001b[1G94.6 MiB [] 80% 0.4s\u001b[0K\u001b[1G94.6 MiB [] 81% 0.3s\u001b[0K\u001b[1G94.6 MiB [] 82% 0.3s\u001b[0K\u001b[1G94.6 MiB [] 83% 0.3s\u001b[0K\u001b[1G94.6 MiB [] 84% 0.3s\u001b[0K\u001b[1G94.6 MiB [] 85% 0.3s\u001b[0K\u001b[1G94.6 MiB [] 87% 0.2s\u001b[0K\u001b[1G94.6 MiB [] 88% 0.2s\u001b[0K\u001b[1G94.6 MiB [] 89% 0.2s\u001b[0K\u001b[1G94.6 MiB [] 90% 0.2s\u001b[0K\u001b[1G94.6 MiB [] 91% 0.1s\u001b[0K\u001b[1G94.6 MiB [] 92% 0.1s\u001b[0K\u001b[1G94.6 MiB [] 93% 0.1s\u001b[0K\u001b[1G94.6 MiB [] 94% 0.1s\u001b[0K\u001b[1G94.6 MiB [] 95% 0.1s\u001b[0K\u001b[1G94.6 MiB [] 96% 0.1s\u001b[0K\u001b[1G94.6 MiB [] 97% 0.0s\u001b[0K\u001b[1G94.6 MiB [] 98% 0.0s\u001b[0K\u001b[1G94.6 MiB [] 99% 0.0s\u001b[0K\u001b[1G94.6 MiB [] 100% 0.0s\u001b[0K\n",
            "Webkit 26.0 (playwright build v2203) downloaded to /root/.cache/ms-playwright/webkit-2203\n",
            "Downloading FFMPEG playwright build v1011\u001b[2m from https://cdn.playwright.dev/dbazure/download/playwright/builds/ffmpeg/1011/ffmpeg-linux.zip\u001b[22m\n",
            "\u001b[1G2.3 MiB [] 0% 0.0s\u001b[0K\u001b[1G2.3 MiB [] 2% 0.7s\u001b[0K\u001b[1G2.3 MiB [] 12% 0.2s\u001b[0K\u001b[1G2.3 MiB [] 27% 0.1s\u001b[0K\u001b[1G2.3 MiB [] 72% 0.0s\u001b[0K\u001b[1G2.3 MiB [] 100% 0.0s\u001b[0K\n",
            "FFMPEG playwright build v1011 downloaded to /root/.cache/ms-playwright/ffmpeg-1011\n",
            "Playwright Host validation warning: \n",
            "╔══════════════════════════════════════════════════════╗\n",
            "║ Host system is missing dependencies to run browsers. ║\n",
            "║ Missing libraries:                                   ║\n",
            "║     libwoff2dec.so.1.0.2                             ║\n",
            "║     libgstgl-1.0.so.0                                ║\n",
            "║     libgstcodecparsers-1.0.so.0                      ║\n",
            "║     libavif.so.13                                    ║\n",
            "║     libharfbuzz-icu.so.0                             ║\n",
            "║     libenchant-2.so.2                                ║\n",
            "║     libsecret-1.so.0                                 ║\n",
            "║     libhyphen.so.0                                   ║\n",
            "║     libmanette-0.2.so.0                              ║\n",
            "╚══════════════════════════════════════════════════════╝\n",
            "    at validateDependenciesLinux (/usr/local/lib/python3.12/dist-packages/playwright/driver/package/lib/server/registry/dependencies.js:269:9)\n",
            "    at async Registry._validateHostRequirements (/usr/local/lib/python3.12/dist-packages/playwright/driver/package/lib/server/registry/index.js:934:14)\n",
            "    at async Registry._validateHostRequirementsForExecutableIfNeeded (/usr/local/lib/python3.12/dist-packages/playwright/driver/package/lib/server/registry/index.js:1056:7)\n",
            "    at async Registry.validateHostRequirementsForExecutablesIfNeeded (/usr/local/lib/python3.12/dist-packages/playwright/driver/package/lib/server/registry/index.js:1045:7)\n",
            "    at async i.<anonymous> (/usr/local/lib/python3.12/dist-packages/playwright/driver/package/lib/cli/program.js:217:7)\n"
          ]
        }
      ],
      "source": [
        "!playwright install"
      ]
    }
  ],
  "metadata": {
    "colab": {
      "provenance": []
    },
    "kernelspec": {
      "display_name": "llm_git",
      "language": "python",
      "name": "python3"
    },
    "language_info": {
      "name": "python",
      "version": "3.11.13"
    }
  },
  "nbformat": 4,
  "nbformat_minor": 0
}
