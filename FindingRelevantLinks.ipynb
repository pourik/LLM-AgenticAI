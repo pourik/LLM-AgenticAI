{
 "cells": [
  {
   "cell_type": "code",
   "execution_count": 47,
   "id": "5a2e4987",
   "metadata": {},
   "outputs": [],
   "source": [
    "from dotenv import load_dotenv\n",
    "import os\n",
    "from openai import OpenAI\n",
    "import requests\n",
    "import json\n",
    "from bs4 import BeautifulSoup\n",
    "from IPython.display import display, Markdown, update_display"
   ]
  },
  {
   "cell_type": "code",
   "execution_count": 19,
   "id": "20525ca8",
   "metadata": {},
   "outputs": [
    {
     "name": "stdout",
     "output_type": "stream",
     "text": [
      "API Key is valid.\n"
     ]
    }
   ],
   "source": [
    "load_dotenv(override = True)\n",
    "apikey = os.getenv(\"OPENAI_API_KEY\")\n",
    "\n",
    "if not apikey:\n",
    "    print(\"API Key not found.\")\n",
    "elif not apikey.startswith(\"sk-proj-\"):\n",
    "    print(\"API Key is invalid.\")\n",
    "else:\n",
    "    print(\"API Key is valid.\")"
   ]
  },
  {
   "cell_type": "code",
   "execution_count": 20,
   "id": "08b6aaec",
   "metadata": {},
   "outputs": [],
   "source": [
    "headers = {\n",
    " \"User-Agent\": \"Mozilla/5.0 (Windows NT 10.0; Win64; x64) AppleWebKit/537.36 (KHTML, like Gecko) Chrome/117.0.0.0 Safari/537.36\"\n",
    "}\n",
    "\n",
    "class WebScrape:\n",
    "    def __init__(self, url):\n",
    "        self.url = url\n",
    "        soup = BeautifulSoup(requests.get(url, headers=headers).content, 'html.parser')\n",
    "        self.title = soup.title.string if soup.title else 'No title found'\n",
    "        if soup.body:\n",
    "            for irrelevant in soup.body(['script', 'style', 'img', 'input']):\n",
    "                irrelevant.decompose()\n",
    "            self.text = soup.body.get_text(separator='\\n', strip=True)\n",
    "        else:\n",
    "            self.text = ''\n",
    "\n",
    "        links = [link.get('href') for link in soup.find_all('a')]\n",
    "        self.links = [link for link in links if link and link.startswith('http')]\n",
    "\n",
    "    def web_content(self):\n",
    "        return f\"WebPage Title:\\n{self.title}\\nWebpage Content: {self.text}\\n\\n\""
   ]
  },
  {
   "cell_type": "code",
   "execution_count": 21,
   "id": "86bc9eb4",
   "metadata": {},
   "outputs": [
    {
     "data": {
      "text/plain": [
       "['https://edwarddonner.com/',\n",
       " 'https://edwarddonner.com/connect-four/',\n",
       " 'https://edwarddonner.com/outsmart/',\n",
       " 'https://edwarddonner.com/about-me-and-about-nebula/',\n",
       " 'https://edwarddonner.com/posts/',\n",
       " 'https://edwarddonner.com/',\n",
       " 'https://news.ycombinator.com',\n",
       " 'https://nebula.io/?utm_source=ed&utm_medium=referral',\n",
       " 'https://www.prnewswire.com/news-releases/wynden-stark-group-acquires-nyc-venture-backed-tech-startup-untapt-301269512.html',\n",
       " 'https://patents.google.com/patent/US20210049536A1/',\n",
       " 'https://www.linkedin.com/in/eddonner/',\n",
       " 'https://edwarddonner.com/2025/09/15/ai-in-production-gen-ai-and-agentic-ai-on-aws-at-scale/',\n",
       " 'https://edwarddonner.com/2025/09/15/ai-in-production-gen-ai-and-agentic-ai-on-aws-at-scale/',\n",
       " 'https://edwarddonner.com/2025/05/28/connecting-my-courses-become-an-llm-expert-and-leader/',\n",
       " 'https://edwarddonner.com/2025/05/28/connecting-my-courses-become-an-llm-expert-and-leader/',\n",
       " 'https://edwarddonner.com/2025/05/18/2025-ai-executive-briefing/',\n",
       " 'https://edwarddonner.com/2025/05/18/2025-ai-executive-briefing/',\n",
       " 'https://edwarddonner.com/2025/04/21/the-complete-agentic-ai-engineering-course/',\n",
       " 'https://edwarddonner.com/2025/04/21/the-complete-agentic-ai-engineering-course/',\n",
       " 'https://edwarddonner.com/',\n",
       " 'https://edwarddonner.com/connect-four/',\n",
       " 'https://edwarddonner.com/outsmart/',\n",
       " 'https://edwarddonner.com/about-me-and-about-nebula/',\n",
       " 'https://edwarddonner.com/posts/',\n",
       " 'https://www.linkedin.com/in/eddonner/',\n",
       " 'https://twitter.com/edwarddonner',\n",
       " 'https://www.facebook.com/edward.donner.52']"
      ]
     },
     "execution_count": 21,
     "metadata": {},
     "output_type": "execute_result"
    }
   ],
   "source": [
    "ed = WebScrape(\"https://edwarddonner.com\")\n",
    "ed.links"
   ]
  },
  {
   "cell_type": "code",
   "execution_count": 22,
   "id": "fff35e61",
   "metadata": {},
   "outputs": [],
   "source": [
    "link_system_prompt = \"\"\"You are provided with a list of links found on a webpage. \n",
    "You are able to decide which of the links would be most relevant to include in a brochure about the company, \n",
    "such as links to an About page, or a Company page, or Careers/Jobs pages.\n",
    "\n",
    "You should respond in JSON as in this example:\n",
    "{\n",
    "    \"links\": [\n",
    "        {\"type\": \"about page\", \"url\": \"https://full.url/goes/here/about\"},\n",
    "        {\"type\": \"careers page\", \"url\": \"https://another.full.url/careers\"}\n",
    "    ]\n",
    "}\n",
    "\n",
    "\"\"\""
   ]
  },
  {
   "cell_type": "code",
   "execution_count": 23,
   "id": "82d0b95d",
   "metadata": {},
   "outputs": [],
   "source": [
    "def get_user_prompt(website):\n",
    "    user_prompt = f\"Here is the list of links on the website of {website.url} - \"\n",
    "    user_prompt += \"please decide which of these are relevant web links for a brochure about the company, respond with the full https URL in JSON format. \\n\"\n",
    "    \n",
    "    user_prompt += \"Do not include Terms of Service, Privacy, email links.\\n\"\n",
    "    user_prompt += \"Links (some might be relative links):\\n\"\n",
    "    user_prompt += \"\\n\".join(website.links)\n",
    "    return user_prompt"
   ]
  },
  {
   "cell_type": "code",
   "execution_count": 24,
   "id": "2e1ef576",
   "metadata": {},
   "outputs": [
    {
     "name": "stdout",
     "output_type": "stream",
     "text": [
      "Here is the list of links on the website of https://edwarddonner.com - please decide which of these are relevant web links for a brochure about the company, respond with the full https URL in JSON format. \n",
      "Do not include Terms of Service, Privacy, email links.\n",
      "Links (some might be relative links):\n",
      "https://edwarddonner.com/\n",
      "https://edwarddonner.com/connect-four/\n",
      "https://edwarddonner.com/outsmart/\n",
      "https://edwarddonner.com/about-me-and-about-nebula/\n",
      "https://edwarddonner.com/posts/\n",
      "https://edwarddonner.com/\n",
      "https://news.ycombinator.com\n",
      "https://nebula.io/?utm_source=ed&utm_medium=referral\n",
      "https://www.prnewswire.com/news-releases/wynden-stark-group-acquires-nyc-venture-backed-tech-startup-untapt-301269512.html\n",
      "https://patents.google.com/patent/US20210049536A1/\n",
      "https://www.linkedin.com/in/eddonner/\n",
      "https://edwarddonner.com/2025/09/15/ai-in-production-gen-ai-and-agentic-ai-on-aws-at-scale/\n",
      "https://edwarddonner.com/2025/09/15/ai-in-production-gen-ai-and-agentic-ai-on-aws-at-scale/\n",
      "https://edwarddonner.com/2025/05/28/connecting-my-courses-become-an-llm-expert-and-leader/\n",
      "https://edwarddonner.com/2025/05/28/connecting-my-courses-become-an-llm-expert-and-leader/\n",
      "https://edwarddonner.com/2025/05/18/2025-ai-executive-briefing/\n",
      "https://edwarddonner.com/2025/05/18/2025-ai-executive-briefing/\n",
      "https://edwarddonner.com/2025/04/21/the-complete-agentic-ai-engineering-course/\n",
      "https://edwarddonner.com/2025/04/21/the-complete-agentic-ai-engineering-course/\n",
      "https://edwarddonner.com/\n",
      "https://edwarddonner.com/connect-four/\n",
      "https://edwarddonner.com/outsmart/\n",
      "https://edwarddonner.com/about-me-and-about-nebula/\n",
      "https://edwarddonner.com/posts/\n",
      "https://www.linkedin.com/in/eddonner/\n",
      "https://twitter.com/edwarddonner\n",
      "https://www.facebook.com/edward.donner.52\n"
     ]
    }
   ],
   "source": [
    "print(get_user_prompt(ed))"
   ]
  },
  {
   "cell_type": "code",
   "execution_count": 29,
   "id": "3b35a9a2",
   "metadata": {},
   "outputs": [],
   "source": [
    "openai = OpenAI()\n",
    "model = \"gpt-4o-mini\""
   ]
  },
  {
   "cell_type": "code",
   "execution_count": 30,
   "id": "a799d515",
   "metadata": {},
   "outputs": [],
   "source": [
    "def find_relevant_links(url):\n",
    "    website = WebScrape(url)\n",
    "    message = [\n",
    "        {\"role\": \"system\", \"content\": link_system_prompt},\n",
    "        {\"role\": \"user\", \"content\": get_user_prompt(website)}\n",
    "        ] \n",
    "    \n",
    "    query = openai.chat.completions.create(\n",
    "        model=model,\n",
    "        messages=message,\n",
    "        response_format={\"type\": \"json_object\"},\n",
    "    )\n",
    "\n",
    "    response = query.choices[0].message.content\n",
    "    return json.loads(response)\n"
   ]
  },
  {
   "cell_type": "code",
   "execution_count": 31,
   "id": "1beba3e3",
   "metadata": {},
   "outputs": [
    {
     "data": {
      "text/plain": [
       "['https://endpoints.huggingface.co',\n",
       " 'https://apply.workable.com/huggingface/',\n",
       " 'https://discuss.huggingface.co',\n",
       " 'https://status.huggingface.co/',\n",
       " 'https://github.com/huggingface',\n",
       " 'https://twitter.com/huggingface',\n",
       " 'https://www.linkedin.com/company/huggingface/']"
      ]
     },
     "execution_count": 31,
     "metadata": {},
     "output_type": "execute_result"
    }
   ],
   "source": [
    "url = \"https://huggingface.co\"\n",
    "webSite = WebScrape(url)\n",
    "webSite.links"
   ]
  },
  {
   "cell_type": "code",
   "execution_count": 32,
   "id": "ed11d5c3",
   "metadata": {},
   "outputs": [
    {
     "data": {
      "text/plain": [
       "{'links': [{'type': 'careers page',\n",
       "   'url': 'https://apply.workable.com/huggingface/'},\n",
       "  {'type': 'Twitter page', 'url': 'https://twitter.com/huggingface'},\n",
       "  {'type': 'LinkedIn page',\n",
       "   'url': 'https://www.linkedin.com/company/huggingface/'}]}"
      ]
     },
     "execution_count": 32,
     "metadata": {},
     "output_type": "execute_result"
    }
   ],
   "source": [
    "find_relevant_links(url)"
   ]
  },
  {
   "cell_type": "code",
   "execution_count": 35,
   "id": "aedfb5cb",
   "metadata": {},
   "outputs": [],
   "source": [
    "def get_all_details(url):\n",
    "    result = \"Landing page:\\n\"\n",
    "    result += WebScrape(url).web_content()\n",
    "    links = find_relevant_links(url)\n",
    "    print(\"Found links:\", links)\n",
    "    for link in links[\"links\"]:\n",
    "        result += f\"\\n\\n{link['type']}\\n\"\n",
    "        result += WebScrape(link[\"url\"]).web_content()\n",
    "    return result"
   ]
  },
  {
   "cell_type": "code",
   "execution_count": null,
   "id": "ed3d8c37",
   "metadata": {},
   "outputs": [],
   "source": [
    "print(get_all_details(\"https://huggingface.co\"))"
   ]
  },
  {
   "cell_type": "markdown",
   "id": "3e1ac163",
   "metadata": {},
   "source": [
    "Creating Company Brochure Tutorial"
   ]
  },
  {
   "cell_type": "code",
   "execution_count": 37,
   "id": "09f93305",
   "metadata": {},
   "outputs": [],
   "source": [
    "system_prompt = \"\"\"You are an assistant that analyzes the contents of several relevant pages from a company website and creates a short humorous, entertaining, jokey brochure about the company for prospective customers, investors and recruits. Respond in markdown. Include details of company culture, customers and careers/jobs if you have the information.\"\"\""
   ]
  },
  {
   "cell_type": "code",
   "execution_count": 38,
   "id": "b69b0e72",
   "metadata": {},
   "outputs": [],
   "source": [
    "def get_brochure_user_prompt(company_name, url):\n",
    "    user_prompt = f\"You are looking at a company called: {company_name}\\n\"\n",
    "    user_prompt += f\"Here are the contents of its landing page and other relevant pages; use this information to build a short brochure of the company in markdown.\\n\"\n",
    "    user_prompt += get_all_details(url)\n",
    "    user_prompt = user_prompt[:5_000] # Truncate if more than 5,000 characters\n",
    "    return user_prompt"
   ]
  },
  {
   "cell_type": "code",
   "execution_count": null,
   "id": "a38d827c",
   "metadata": {},
   "outputs": [],
   "source": [
    "print(get_brochure_user_prompt(\"HuggingFace\", \"https://huggingface.co\"))"
   ]
  },
  {
   "cell_type": "code",
   "execution_count": 43,
   "id": "abf26fec",
   "metadata": {},
   "outputs": [],
   "source": [
    "def create_brochure(company_name, url):\n",
    "    response = openai.chat.completions.create(\n",
    "        model=model,\n",
    "        messages=[\n",
    "            {\"role\": \"system\", \"content\": system_prompt},\n",
    "            {\"role\": \"user\", \"content\": get_brochure_user_prompt(company_name, url)}\n",
    "          ],\n",
    "    )\n",
    "    result = response.choices[0].message.content\n",
    "    display(Markdown(result))"
   ]
  },
  {
   "cell_type": "code",
   "execution_count": 49,
   "id": "09f0b6da",
   "metadata": {},
   "outputs": [
    {
     "name": "stdout",
     "output_type": "stream",
     "text": [
      "Found links: {'links': [{'type': 'careers page', 'url': 'https://apply.workable.com/huggingface/'}, {'type': 'linkedin page', 'url': 'https://www.linkedin.com/company/huggingface/'}, {'type': 'twitter page', 'url': 'https://twitter.com/huggingface'}, {'type': 'github page', 'url': 'https://github.com/huggingface'}, {'type': 'discussion forum', 'url': 'https://discuss.huggingface.co'}]}\n"
     ]
    },
    {
     "data": {
      "text/markdown": [
       "```markdown\n",
       "# Welcome to Hugging Face! 😄🌟\n",
       "\n",
       "### The AI Community Building The Future 🤖\n",
       "\n",
       "At Hugging Face, we don’t just love machine learning; we hug it like a teddy bear! Join the fun as we collaborate with a staggering **50,000+ organizations** and help the world of AI embrace the future, one *hug* at a time. \n",
       "\n",
       "#### What Do We Offer? \n",
       "\n",
       "- **1M+ Models**: Just like an ice cream shop, but instead, we have models, datasets, and applications. Pick your flavor!\n",
       "  \n",
       "- **Collaborative Spaces**: We've got community vibes as cozy as a chilly winter evening. Build, discover, and dive deep into the hug-tastic world of machine learning!\n",
       "\n",
       "- **Datasets Galore!**: Why limit your data to a few bites when we have **250k+ datasets**? It’s a buffet of data goodness! 🥳\n",
       "\n",
       "- **Specialized Solutions**: Need enterprise-grade security? We offer tailored solutions for teams, along with dedicated support—no more \"uh-oh\" moments! \n",
       "\n",
       "#### Meet Our Customers! 🤝\n",
       "\n",
       "With big names like **Google**, **Microsoft**, and **Amazon** in our family of users, it's clear that we’re not just hugging any one-trick ponies! Each of these enterprises have dug into our cool offerings—like trying a new flavor of ice cream every week! \n",
       "\n",
       "#### Join Us! 🚀\n",
       "\n",
       "If you're thinking, “Wow, this sounds like a place I’d love to work!” then grab your favorite beverage and cozy up! We’re looking for tech enthusiasts, driven coders, and anyone who can appreciate a well-placed pun. \n",
       "\n",
       "- **Current Openings**: We have a range of positions to fit your skill set—whether you’re a seasoned developer or just your friendly neighborhood data enthusiast.  \n",
       "  - **Job Positions**: Check out jobs ranging from *Machine Learning Models Wrangler* to *Data Alchemist*. 🧙‍♂️\n",
       "\n",
       "### Company Culture - A Hugging Touch! \n",
       "\n",
       "- **Open Source**: We believe in sharing—like a good friend who shares their fries!  \n",
       "- **Collaboration**: Whether remote or in-house, our teamwork makes the dream work. (If your dream involves AI, that is!) \n",
       "- **Hugging Face Friday**: On Fridays, we don our best “hug” gear—because who doesn't want a fluffy hoodie at work? 🥰\n",
       "\n",
       "#### How to Reach Us 📨\n",
       "\n",
       "Want to hop on this hugging adventure? Visit us at [Hugging Face](https://huggingface.co) or follow us on social media to stay updated. We promise, if you give us a hug, we’ll definitely return the sentiment! 😉\n",
       "\n",
       "---\n",
       "\n",
       "**Hugging Face**: Not just a name, but a feeling! Let’s build the future of AI together—where everyone is welcome for a hug… or 100! 🤗\n",
       "```"
      ],
      "text/plain": [
       "<IPython.core.display.Markdown object>"
      ]
     },
     "metadata": {},
     "output_type": "display_data"
    }
   ],
   "source": [
    "create_brochure(\"HuggingFace\", \"https://huggingface.co\")"
   ]
  },
  {
   "cell_type": "markdown",
   "id": "0086d115",
   "metadata": {},
   "source": [
    "How to Animate ChatGPT streaming answers?"
   ]
  },
  {
   "cell_type": "code",
   "execution_count": 45,
   "id": "50f20245",
   "metadata": {},
   "outputs": [],
   "source": [
    "def stream_brochure(company_name, url):\n",
    "    stream = openai.chat.completions.create(\n",
    "        model=model,\n",
    "        messages=[\n",
    "            {\"role\": \"system\", \"content\": system_prompt},\n",
    "            {\"role\": \"user\", \"content\": get_brochure_user_prompt(company_name, url)}\n",
    "          ],\n",
    "        stream=True\n",
    "    )\n",
    "    \n",
    "    response = \"\"\n",
    "    display_handle = display(Markdown(\"\"), display_id=True)\n",
    "    for chunk in stream:\n",
    "        response += chunk.choices[0].delta.content or ''\n",
    "        response = response.replace(\"```\",\"\").replace(\"markdown\", \"\")\n",
    "        update_display(Markdown(response), display_id=display_handle.display_id)"
   ]
  },
  {
   "cell_type": "code",
   "execution_count": 48,
   "id": "675196d4",
   "metadata": {},
   "outputs": [
    {
     "name": "stdout",
     "output_type": "stream",
     "text": [
      "Found links: {'links': [{'type': 'careers page', 'url': 'https://apply.workable.com/huggingface/'}, {'type': 'company page', 'url': 'https://www.linkedin.com/company/huggingface/'}]}\n"
     ]
    },
    {
     "data": {
      "text/markdown": [
       "# Welcome to Hugging Face: The AI Community Building the Future! 🤗\n",
       "\n",
       "## Who are We? \n",
       "At **Hugging Face**, we're the community-driven masterminds behind groundbreaking AI innovations. Think of us as the friendly neighborhood superheroes of machine learning (minus the spandex suits... unless that’s your thing).\n",
       "\n",
       "## What Do We Offer?\n",
       "- **1 Million+ Models**: Whether you're in search of text, image, or video models, we’ve got a buffet of AI goodness waiting for you. Just don’t forget to leave room for dessert (read: datasets)!\n",
       "- **Datasets Galore**: With over 250,000 datasets, we’ve got more data than your favorite café has beans! ☕️\n",
       "- **Spaces**: Collaborate and run your applications with no stress! Just plug in and go, like your iPhone at 1 am (we know you do it).\n",
       "\n",
       "## Who Uses Hugging Face?\n",
       "We serve all kinds of wonderful folks: \n",
       "- Non-profits like Ai2 helping save the world (one model at a time).\n",
       "- Giant enterprises, including Google and Microsoft, trying to make sense of their algorithms... or at least pretending to.\n",
       "- Make sure to check your celebrity models like **baidu/ERNIE-4.5-21B-A3B-Thinking**—it’s quite the crowd-pleaser!\n",
       "\n",
       "## Culture\n",
       "We believe in an open-source universe where ideas float around like confetti at a party! 🥳 \n",
       "- **Inclusivity**: Everyone’s invited to our community gathering, so bring your unique perspectives!\n",
       "- **Collaboration**: Teamwork makes the dream work—let's build AI tools together!\n",
       "- **Innovation**: If you have an idea, we say GO for it! Seriously, no one’s stopping you. Fly your AI flag high! 🏴‍☠️\n",
       "\n",
       "## Careers at Hugging Face\n",
       "Looking to Join Us? Here's your chance!  \n",
       "We are a dynamic team of **51-200** amazing humans looking for more adrenaline junkies obsessed with AI. If your idea of a career involves machine learning, natural language processing, and working closely with **over 50,000 organizations** (yes, that's a lot), then what are you waiting for? \n",
       "\n",
       "- Explore our current openings and unleash your inner AI wizard! 🧙‍♂️\n",
       "\n",
       "## Join Us Today!\n",
       "Read more at [huggingface.co](https://huggingface.co) and start your journey with the coolest AI squad around.\n",
       "\n",
       "*Disclaimer: Hugging Face is not responsible for sudden bursts of creativity or delusions of grandeur that may occur after joining.* 😂"
      ],
      "text/plain": [
       "<IPython.core.display.Markdown object>"
      ]
     },
     "metadata": {},
     "output_type": "display_data"
    }
   ],
   "source": [
    "stream_brochure(\"HuggingFace\", \"https://huggingface.co\")"
   ]
  },
  {
   "cell_type": "code",
   "execution_count": null,
   "id": "7301b036",
   "metadata": {},
   "outputs": [],
   "source": []
  }
 ],
 "metadata": {
  "kernelspec": {
   "display_name": "llm_git",
   "language": "python",
   "name": "python3"
  },
  "language_info": {
   "codemirror_mode": {
    "name": "ipython",
    "version": 3
   },
   "file_extension": ".py",
   "mimetype": "text/x-python",
   "name": "python",
   "nbconvert_exporter": "python",
   "pygments_lexer": "ipython3",
   "version": "3.11.13"
  }
 },
 "nbformat": 4,
 "nbformat_minor": 5
}
